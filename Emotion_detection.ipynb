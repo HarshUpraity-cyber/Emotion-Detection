{
 "cells": [
  {
   "cell_type": "code",
   "execution_count": null,
   "id": "5f1c5963-5eb5-4843-9c07-d58458f336fa",
   "metadata": {},
   "outputs": [],
   "source": [
    "from deepface import DeepFace\n",
    "import cv2\n",
    "import matplotlib.pyplot as plt"
   ]
  },
  {
   "cell_type": "markdown",
   "id": "1517dd3c-f809-40de-809b-6ccde950d434",
   "metadata": {},
   "source": [
    "## Detection of image emotion"
   ]
  },
  {
   "cell_type": "code",
   "execution_count": null,
   "id": "e46c08b9-f30f-41d8-ad13-837718c1af9b",
   "metadata": {},
   "outputs": [],
   "source": [
    "img_path = \"C:/Users/hu374/Downloads/images/happy.jpeg\" # Replace with your image filename\n",
    "img = cv2.imread(img_path)\n",
    "img = cv2.cvtColor(img, cv2.COLOR_BGR2RGB)\n",
    "\n",
    "plt.imshow(img)\n",
    "plt.axis('off')\n",
    "plt.show()\n",
    "result = DeepFace.analyze(img_path=img_path, actions=['emotion','age','gender','race'])\n",
    "print(\"Detected Emotion:\", result[0]['dominant_emotion'])\n",
    "print(\"Detected Emotion:\", result[0]['age'])\n",
    "print(\"Detected Emotion:\", result[0]['gender'])\n",
    "print(\"Detected Emotion:\", result[0]['dominant_race'])"
   ]
  },
  {
   "cell_type": "markdown",
   "id": "0bad6c18-0a2e-4e59-acbf-19093bc40ffd",
   "metadata": {},
   "source": [
    "## WEBCAM Emotion detection"
   ]
  },
  {
   "cell_type": "code",
   "execution_count": null,
   "id": "64846467-ebb7-4143-907e-54b6050c3279",
   "metadata": {},
   "outputs": [],
   "source": [
    "import cv2\n",
    "from deepface import DeepFace\n",
    "\n",
    "# Start the webcam\n",
    "cap = cv2.VideoCapture(0)\n",
    "\n",
    "print(\"Press 'q' to quit...\")\n",
    "\n",
    "while True:\n",
    "    ret, frame = cap.read()\n",
    "\n",
    "    if not ret:\n",
    "        print(\"Failed to grab frame\")\n",
    "        break\n",
    "\n",
    "    # Resize frame for faster processing (optional)\n",
    "    resized_frame = cv2.resize(frame, (640,480))\n",
    "\n",
    "    try:\n",
    "        # Analyze the frame for emotion\n",
    "        result = DeepFace.analyze(img_path=resized_frame, actions=['emotion','age','gender','race'], enforce_detection=False)\n",
    "        \n",
    "        # Get dominant emotion\n",
    "        emotion = result[0]['dominant_emotion']\n",
    "        age = result[0]['age']\n",
    "        gender = result[0]['gender']\n",
    "        race = result[0]['dominant_race']\n",
    "        \n",
    "        \n",
    "        # Display emotion on the frame\n",
    "        cv2.putText(resized_frame, f'Emotion: {emotion}, Age:{age}, race:{race}', (20, 50),\n",
    "                    cv2.FONT_HERSHEY_SIMPLEX, 0.5, (0, 0, 0), 1)\n",
    "        cv2.putText(resized_frame, f'gender: {gender}', (20, 70),\n",
    "                    cv2.FONT_HERSHEY_SIMPLEX, 0.5, (0, 0, 0), 1)\n",
    "        \n",
    "    except Exception as e:\n",
    "        print(\"Detection error:\", e)\n",
    "\n",
    "    # Show the frame\n",
    "    cv2.imshow(\"Real-Time Emotion Detection\", resized_frame)\n",
    "\n",
    "    # Break the loop if 'q' is pressed\n",
    "    if cv2.waitKey(1) & 0xFF == ord('q'):\n",
    "        break\n",
    "\n",
    "# Release the webcam\n",
    "cap.release()\n",
    "cv2.destroyAllWindows()\n"
   ]
  },
  {
   "cell_type": "markdown",
   "id": "2164b2c1-e0fb-4666-b727-7e83d0670bd3",
   "metadata": {},
   "source": [
    "## Smooth frame detection"
   ]
  },
  {
   "cell_type": "code",
   "execution_count": null,
   "id": "67b07092-d8dd-4638-b720-9021d8feee88",
   "metadata": {},
   "outputs": [],
   "source": [
    "import cv2\n",
    "from deepface import DeepFace\n",
    "\n",
    "cap = cv2.VideoCapture(0)\n",
    "\n",
    "frame_count = 0\n",
    "detect_every_n_frames = 45  # Adjust this: lower = more frequent but slower\n",
    "\n",
    "emotion, age, gender = \"\", \"\", \"\"\n",
    "\n",
    "print(\"Press 'q' to quit...\")\n",
    "\n",
    "while True:\n",
    "    ret, frame = cap.read()\n",
    "    if not ret:\n",
    "        print(\"Failed to grab frame\")\n",
    "        break\n",
    "\n",
    "    resized_frame = cv2.resize(frame, (640, 480))\n",
    "\n",
    "    # Run detection every N frames\n",
    "    if frame_count % detect_every_n_frames == 0:\n",
    "        try:\n",
    "            result = DeepFace.analyze(\n",
    "                img_path=resized_frame,\n",
    "                actions=['emotion', 'age', 'gender'],\n",
    "                enforce_detection=False,\n",
    "                detector_backend='opencv'  # faster backend (optional)\n",
    "            )\n",
    "            emotion = result[0]['dominant_emotion']\n",
    "            age = result[0]['age']\n",
    "            gender = result[0]['gender']\n",
    "        except Exception as e:\n",
    "            print(\"Detection error:\", e)\n",
    "\n",
    "    # Show text (always visible, even between detections)\n",
    "    font = cv2.FONT_HERSHEY_SIMPLEX\n",
    "    font_scale = 0.6\n",
    "    thickness = 1\n",
    "\n",
    "    cv2.putText(resized_frame, f'Emotion: {emotion}', (10, 30), font, font_scale, (0, 255, 0), thickness)\n",
    "    cv2.putText(resized_frame, f'Age: {age}', (10, 55), font, font_scale, (255, 255, 0), thickness)\n",
    "    cv2.putText(resized_frame, f'Gender: {gender}', (10, 80), font, font_scale, (255, 0, 255), thickness)\n",
    "\n",
    "    cv2.imshow(\"Real-Time Detection\", resized_frame)\n",
    "\n",
    "    # Increment frame counter\n",
    "    frame_count += 1\n",
    "\n",
    "    # Exit on 'q' key\n",
    "    if cv2.waitKey(1) & 0xFF == ord('q'):\n",
    "        break\n",
    "\n",
    "cap.release()\n",
    "cv2.destroyAllWindows()\n"
   ]
  }
 ],
 "metadata": {
  "kernelspec": {
   "display_name": "Python [conda env:base] *",
   "language": "python",
   "name": "conda-base-py"
  },
  "language_info": {
   "codemirror_mode": {
    "name": "ipython",
    "version": 3
   },
   "file_extension": ".py",
   "mimetype": "text/x-python",
   "name": "python",
   "nbconvert_exporter": "python",
   "pygments_lexer": "ipython3",
   "version": "3.12.7"
  }
 },
 "nbformat": 4,
 "nbformat_minor": 5
}
